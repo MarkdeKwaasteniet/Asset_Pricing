{
 "cells": [
  {
   "cell_type": "markdown",
   "id": "a2273c59",
   "metadata": {},
   "source": [
    "# Trading Strategies Asset Pricing\n",
    "### Team 63\n",
    "- David Landveld\n",
    "- Marc van Gils\n",
    "- Paul Bejczy\n",
    "- Mark de Kwaasteniet\n",
    "\n",
    "\n",
    "## Trading Strategy Week 1: Weight Optimization"
   ]
  },
  {
   "cell_type": "code",
   "execution_count": null,
   "id": "cff5eb7f",
   "metadata": {},
   "outputs": [],
   "source": [
    "%reset\n",
    "import json\n",
    "import numpy as np\n",
    "import pandas as pd\n",
    "import matplotlib as mpl\n",
    "import matplotlib.pyplot as plt\n",
    "from statsmodels.formula.api import ols\n",
    "import statsmodels.api as sm\n",
    "import scipy\n",
    "import scipy.stats\n",
    "from sklearn.preprocessing import StandardScaler\n",
    "from scipy.stats import norm\n",
    "from nltk.sentiment.vader import SentimentIntensityAnalyzer\n",
    "import nltk"
   ]
  },
  {
   "cell_type": "code",
   "execution_count": 2,
   "id": "c0558f18",
   "metadata": {},
   "outputs": [],
   "source": [
    "df_stoxx = pd.read_excel(\"Data_game_20211117.xlsx\", index_col=0, sheet_name='PRICES')\n",
    "df_stoxx = df_stoxx.pct_change()\n",
    "df_stoxx = df_stoxx.iloc[1:,]\n",
    "df_stoxx = df_stoxx.tail(25)\n"
   ]
  },
  {
   "cell_type": "code",
   "execution_count": 3,
   "id": "d7bfb578",
   "metadata": {},
   "outputs": [],
   "source": [
    "# Set the constraints for all portfolios that we are forming. The total sum of the weight in all the assets should be equal to 1.\n",
    "# We cannot invest more than 100%, therefore, this should be equal to one.\n",
    "constraint = ({'type':'eq','fun': lambda x: np.sum(x)-1}) #This is a special constraint for the scipy.optimize function. \n",
    "\n",
    "# Type, is the type of constraint, in this case it is an equality constraint (eq). Meaning the result should be equal to zero.\n",
    "# With this function the sum of the weights minus 1 should always be equal to zero."
   ]
  },
  {
   "cell_type": "code",
   "execution_count": 4,
   "id": "a185e0e9",
   "metadata": {},
   "outputs": [],
   "source": [
    "def negative_performance(weights, stock_returns = df_stoxx):\n",
    "    \n",
    "        # Calculate the portfolio returns using the weights given.\n",
    "        portfolio_return = np.sum(weights*np.mean(stock_returns,axis=0))\n",
    "    \n",
    "        # Calculate the portfolio volatility. By multiplying the weights(transposed) times product of the Covariance matrix with the weights.\n",
    "        portfolio_volatility = np.sqrt(np.sum(np.cov(np.transpose(stock_returns),ddof=0)*np.outer(weights,weights)))\n",
    "        \n",
    "        \n",
    "        # Calculate the performance using the risk free rate of every formation period.\n",
    "        performance = -(portfolio_return-(0.25*portfolio_volatility))\n",
    "    \n",
    "        # Return the Negative performance\n",
    "        return performance"
   ]
  },
  {
   "cell_type": "code",
   "execution_count": 5,
   "id": "e9c4113a",
   "metadata": {},
   "outputs": [],
   "source": [
    "#Set the Weight bounds of the stocks\n",
    "weight_bound = ((0, 1),)* len(df_stoxx.columns)\n",
    "\n",
    "#Starting values for the optimizer\n",
    "starting_values = [1/(len(df_stoxx.columns))]*len(df_stoxx.columns)"
   ]
  },
  {
   "cell_type": "code",
   "execution_count": 6,
   "id": "b92100e0",
   "metadata": {},
   "outputs": [],
   "source": [
    "#Run the optimizer to find the optimal portfolio weights. \n",
    "portfolio_opt = scipy.optimize.minimize(negative_performance, starting_values, constraints=constraint, bounds=weight_bound)\n",
    "\n",
    "#Store the portfolio weights, not rounding\n",
    "weights_portfolio_opt = portfolio_opt.x"
   ]
  },
  {
   "cell_type": "code",
   "execution_count": 7,
   "id": "202b1406",
   "metadata": {},
   "outputs": [],
   "source": [
    "df_weights = pd.DataFrame(columns=['Ticker'])\n",
    "df_weights['Ticker'] = df_stoxx.columns\n",
    "df_weights['weight'] = weights_portfolio_opt\n",
    "df_weights = df_weights.sort_values(by=['weight','Ticker'], ascending=False)\n",
    "df_weights = df_weights.head(30)\n",
    "df_weights.to_csv(\"optimal_weights.csv\")"
   ]
  },
  {
   "cell_type": "code",
   "execution_count": 8,
   "id": "67daf383",
   "metadata": {},
   "outputs": [],
   "source": [
    "def portfolio_statistics(portfolio, portfolio_name):\n",
    "    print('\\033[1m',portfolio_name, '\\033[0m')\n",
    "    print('Average Daily Returns:', np.average(portfolio['return']))\n",
    "    print('Average Standard Deviation of Returns:',np.std(portfolio['return']))\n",
    "    print('Average Performance of Portfolio:',(np.average(portfolio['return'])- (0.25*(np.std(portfolio['return'])))))"
   ]
  },
  {
   "cell_type": "code",
   "execution_count": 9,
   "id": "d0cd08f1",
   "metadata": {},
   "outputs": [],
   "source": [
    "df_portfolio = pd.DataFrame(columns=['return'])\n",
    "for index, row in df_stoxx.iterrows():\n",
    "    df_portfolio.loc[index, ['return']] = np.sum(weights_portfolio_opt*df_stoxx.loc[index])"
   ]
  },
  {
   "cell_type": "code",
   "execution_count": 10,
   "id": "9097ae84",
   "metadata": {},
   "outputs": [
    {
     "name": "stdout",
     "output_type": "stream",
     "text": [
      "\u001b[1m Portfolio Using 5 Weeks \u001b[0m\n",
      "Average Daily Returns: 0.01244283082194795\n",
      "Average Standard Deviation of Returns: 0.007648746046189506\n",
      "Average Performance of Portfolio: 0.010530644310400572\n"
     ]
    }
   ],
   "source": [
    "portfolio_statistics(df_portfolio,'Portfolio Using 5 Weeks')"
   ]
  },
  {
   "cell_type": "code",
   "execution_count": null,
   "id": "33b356d1",
   "metadata": {},
   "outputs": [],
   "source": [
    "%reset\n",
    "import json\n",
    "import numpy as np\n",
    "import pandas as pd\n",
    "import matplotlib as mpl\n",
    "import matplotlib.pyplot as plt\n",
    "from statsmodels.formula.api import ols\n",
    "import statsmodels.api as sm\n",
    "import scipy\n",
    "import scipy.stats\n",
    "\n",
    "df_stoxx = pd.read_excel(\"Data_game_20211117.xlsx\", index_col=0, sheet_name='PRICES')\n",
    "df_stoxx = df_stoxx.pct_change()\n",
    "df_stoxx = df_stoxx.iloc[1:,]\n",
    "df_stoxx = df_stoxx.tail(25)\n",
    "\n",
    "\n",
    "# Set the constraints for all portfolios that we are forming. The total sum of the weight in all the assets should be equal to 1.\n",
    "# We cannot invest more than 100%, therefore, this should be equal to one.\n",
    "constraint = ({'type':'eq','fun': lambda x: np.sum(x)-1}) #This is a special constraint for the scipy.optimize function. \n",
    "\n",
    "# Type, is the type of constraint, in this case it is an equality constraint (eq). Meaning the result should be equal to zero.\n",
    "# With this function the sum of the weights minus 1 should always be equal to zero.\n",
    "\n",
    "def negative_performance(weights, stock_returns = df_stoxx):\n",
    "    \n",
    "        # Calculate the portfolio returns using the weights given.\n",
    "        portfolio_return = np.sum(weights*np.mean(stock_returns,axis=0))\n",
    "    \n",
    "        # Calculate the portfolio volatility. By multiplying the weights(transposed) times product of the Covariance matrix with the weights.\n",
    "        portfolio_volatility = np.sqrt(np.sum(np.cov(np.transpose(stock_returns),ddof=0)*np.outer(weights,weights)))\n",
    "        \n",
    "        \n",
    "        # Calculate the performance using the risk free rate of every formation period.\n",
    "        performance = -(portfolio_return-(0.25*portfolio_volatility))\n",
    "    \n",
    "        # Return the Negative performance\n",
    "        return performance\n",
    "\n",
    "#Set the Weight bounds of the stocks\n",
    "weight_bound = ((0, 1),)* len(df_stoxx.columns)\n",
    "\n",
    "#Starting values for the optimizer\n",
    "starting_values = [1/(len(df_stoxx.columns))]*len(df_stoxx.columns)\n",
    "\n",
    "#Run the optimizer to find the optimal portfolio weights. \n",
    "portfolio_opt = scipy.optimize.minimize(negative_performance, starting_values, constraints=constraint, bounds=weight_bound)\n",
    "\n",
    "#Store the portfolio weights, not rounding\n",
    "weights_portfolio_opt = portfolio_opt.x\n",
    "\n",
    "df_weights = pd.DataFrame(columns=['Ticker'])\n",
    "df_weights['Ticker'] = df_stoxx.columns\n",
    "df_weights['weight'] = weights_portfolio_opt\n",
    "df_weights = df_weights.sort_values(by=['weight','Ticker'], ascending=False)\n",
    "df_weights = df_weights.head(30)\n",
    "df_weights.to_csv(\"optimal_weights.csv\")\n",
    "\n",
    "def portfolio_statistics(portfolio, portfolio_name):\n",
    "    print('\\033[1m',portfolio_name, '\\033[0m')\n",
    "    print('Average Daily Returns:', np.average(portfolio['return']))\n",
    "    print('Average Standard Deviation of Returns:',np.std(portfolio['return']))\n",
    "    print('Average Performance of Portfolio:',(np.average(portfolio['return'])- (0.25*(np.std(portfolio['return'])))))\n",
    "\n",
    "df_portfolio = pd.DataFrame(columns=['return'])\n",
    "for index, row in df_stoxx.iterrows():\n",
    "    df_portfolio.loc[index, ['return']] = np.sum(weights_portfolio_opt*df_stoxx.loc[index])\n",
    "\n",
    "portfolio_statistics(df_portfolio,'Portfolio Using 5 Weeks')"
   ]
  },
  {
   "cell_type": "markdown",
   "id": "87ceb0cf",
   "metadata": {},
   "source": [
    "## Trading Strategy Week 2: Momentum + Mean Reversion"
   ]
  },
  {
   "cell_type": "code",
   "execution_count": 2,
   "id": "bdd18e94",
   "metadata": {},
   "outputs": [
    {
     "data": {
      "text/html": [
       "<div>\n",
       "<style scoped>\n",
       "    .dataframe tbody tr th:only-of-type {\n",
       "        vertical-align: middle;\n",
       "    }\n",
       "\n",
       "    .dataframe tbody tr th {\n",
       "        vertical-align: top;\n",
       "    }\n",
       "\n",
       "    .dataframe thead th {\n",
       "        text-align: right;\n",
       "    }\n",
       "</style>\n",
       "<table border=\"1\" class=\"dataframe\">\n",
       "  <thead>\n",
       "    <tr style=\"text-align: right;\">\n",
       "      <th></th>\n",
       "      <th>BT.A-GB</th>\n",
       "      <th>CCL-GB</th>\n",
       "      <th>MKS-GB</th>\n",
       "      <th>BARC-GB</th>\n",
       "      <th>ITRK-GB</th>\n",
       "      <th>BRBY-GB</th>\n",
       "      <th>NXT-GB</th>\n",
       "      <th>KGF-GB</th>\n",
       "      <th>ITV-GB</th>\n",
       "      <th>EN-FR</th>\n",
       "      <th>...</th>\n",
       "      <th>ENR-DE</th>\n",
       "      <th>JDEP-NL</th>\n",
       "      <th>ALE-PL</th>\n",
       "      <th>WISE-GB</th>\n",
       "      <th>INPST-NL</th>\n",
       "      <th>DOCS-GB</th>\n",
       "      <th>AG1-DE</th>\n",
       "      <th>ROO-GB</th>\n",
       "      <th>ALLFG-NL</th>\n",
       "      <th>UMG-NL</th>\n",
       "    </tr>\n",
       "  </thead>\n",
       "  <tbody>\n",
       "    <tr>\n",
       "      <th>2021-01-04</th>\n",
       "      <td>0.017048</td>\n",
       "      <td>-0.075473</td>\n",
       "      <td>-0.045146</td>\n",
       "      <td>-0.030877</td>\n",
       "      <td>0.029392</td>\n",
       "      <td>0.007066</td>\n",
       "      <td>-0.033860</td>\n",
       "      <td>0.009875</td>\n",
       "      <td>-0.010002</td>\n",
       "      <td>0.010995</td>\n",
       "      <td>...</td>\n",
       "      <td>0.004333</td>\n",
       "      <td>-0.049256</td>\n",
       "      <td>0.009100</td>\n",
       "      <td>NaN</td>\n",
       "      <td>NaN</td>\n",
       "      <td>NaN</td>\n",
       "      <td>NaN</td>\n",
       "      <td>NaN</td>\n",
       "      <td>NaN</td>\n",
       "      <td>NaN</td>\n",
       "    </tr>\n",
       "    <tr>\n",
       "      <th>2021-01-05</th>\n",
       "      <td>-0.002173</td>\n",
       "      <td>0.010578</td>\n",
       "      <td>0.017530</td>\n",
       "      <td>-0.001457</td>\n",
       "      <td>-0.010819</td>\n",
       "      <td>-0.012701</td>\n",
       "      <td>0.081277</td>\n",
       "      <td>0.032355</td>\n",
       "      <td>-0.010007</td>\n",
       "      <td>0.003233</td>\n",
       "      <td>...</td>\n",
       "      <td>-0.001328</td>\n",
       "      <td>-0.017933</td>\n",
       "      <td>0.021707</td>\n",
       "      <td>NaN</td>\n",
       "      <td>NaN</td>\n",
       "      <td>NaN</td>\n",
       "      <td>NaN</td>\n",
       "      <td>NaN</td>\n",
       "      <td>NaN</td>\n",
       "      <td>NaN</td>\n",
       "    </tr>\n",
       "    <tr>\n",
       "      <th>2021-01-06</th>\n",
       "      <td>0.037976</td>\n",
       "      <td>0.025397</td>\n",
       "      <td>0.040401</td>\n",
       "      <td>0.078782</td>\n",
       "      <td>0.008763</td>\n",
       "      <td>0.018325</td>\n",
       "      <td>0.024951</td>\n",
       "      <td>-0.001149</td>\n",
       "      <td>0.039802</td>\n",
       "      <td>0.033988</td>\n",
       "      <td>...</td>\n",
       "      <td>0.021934</td>\n",
       "      <td>-0.021449</td>\n",
       "      <td>0.000000</td>\n",
       "      <td>NaN</td>\n",
       "      <td>NaN</td>\n",
       "      <td>NaN</td>\n",
       "      <td>NaN</td>\n",
       "      <td>NaN</td>\n",
       "      <td>NaN</td>\n",
       "      <td>NaN</td>\n",
       "    </tr>\n",
       "    <tr>\n",
       "      <th>2021-01-07</th>\n",
       "      <td>0.042330</td>\n",
       "      <td>0.004560</td>\n",
       "      <td>0.014439</td>\n",
       "      <td>0.008136</td>\n",
       "      <td>-0.009746</td>\n",
       "      <td>0.014806</td>\n",
       "      <td>0.002726</td>\n",
       "      <td>-0.000945</td>\n",
       "      <td>0.005251</td>\n",
       "      <td>0.015585</td>\n",
       "      <td>...</td>\n",
       "      <td>0.036098</td>\n",
       "      <td>0.009775</td>\n",
       "      <td>-0.030335</td>\n",
       "      <td>NaN</td>\n",
       "      <td>NaN</td>\n",
       "      <td>NaN</td>\n",
       "      <td>NaN</td>\n",
       "      <td>NaN</td>\n",
       "      <td>NaN</td>\n",
       "      <td>NaN</td>\n",
       "    </tr>\n",
       "    <tr>\n",
       "      <th>2021-01-08</th>\n",
       "      <td>-0.022343</td>\n",
       "      <td>-0.001681</td>\n",
       "      <td>-0.020526</td>\n",
       "      <td>-0.016600</td>\n",
       "      <td>0.008472</td>\n",
       "      <td>-0.009519</td>\n",
       "      <td>0.002674</td>\n",
       "      <td>0.009272</td>\n",
       "      <td>-0.001919</td>\n",
       "      <td>-0.005301</td>\n",
       "      <td>...</td>\n",
       "      <td>0.049278</td>\n",
       "      <td>-0.023761</td>\n",
       "      <td>-0.028903</td>\n",
       "      <td>NaN</td>\n",
       "      <td>NaN</td>\n",
       "      <td>NaN</td>\n",
       "      <td>NaN</td>\n",
       "      <td>NaN</td>\n",
       "      <td>NaN</td>\n",
       "      <td>NaN</td>\n",
       "    </tr>\n",
       "    <tr>\n",
       "      <th>...</th>\n",
       "      <td>...</td>\n",
       "      <td>...</td>\n",
       "      <td>...</td>\n",
       "      <td>...</td>\n",
       "      <td>...</td>\n",
       "      <td>...</td>\n",
       "      <td>...</td>\n",
       "      <td>...</td>\n",
       "      <td>...</td>\n",
       "      <td>...</td>\n",
       "      <td>...</td>\n",
       "      <td>...</td>\n",
       "      <td>...</td>\n",
       "      <td>...</td>\n",
       "      <td>...</td>\n",
       "      <td>...</td>\n",
       "      <td>...</td>\n",
       "      <td>...</td>\n",
       "      <td>...</td>\n",
       "      <td>...</td>\n",
       "      <td>...</td>\n",
       "    </tr>\n",
       "    <tr>\n",
       "      <th>2021-11-04</th>\n",
       "      <td>0.100187</td>\n",
       "      <td>-0.008286</td>\n",
       "      <td>0.011826</td>\n",
       "      <td>-0.048763</td>\n",
       "      <td>0.000845</td>\n",
       "      <td>0.009575</td>\n",
       "      <td>-0.002513</td>\n",
       "      <td>0.013283</td>\n",
       "      <td>0.012092</td>\n",
       "      <td>0.001138</td>\n",
       "      <td>...</td>\n",
       "      <td>0.020079</td>\n",
       "      <td>0.013019</td>\n",
       "      <td>0.019127</td>\n",
       "      <td>0.030384</td>\n",
       "      <td>0.052785</td>\n",
       "      <td>0.017875</td>\n",
       "      <td>-0.018182</td>\n",
       "      <td>-0.000699</td>\n",
       "      <td>0.008711</td>\n",
       "      <td>0.033373</td>\n",
       "    </tr>\n",
       "    <tr>\n",
       "      <th>2021-11-05</th>\n",
       "      <td>0.012964</td>\n",
       "      <td>0.093139</td>\n",
       "      <td>0.005779</td>\n",
       "      <td>0.003627</td>\n",
       "      <td>-0.008766</td>\n",
       "      <td>0.021157</td>\n",
       "      <td>0.003236</td>\n",
       "      <td>-0.029283</td>\n",
       "      <td>0.032691</td>\n",
       "      <td>0.011367</td>\n",
       "      <td>...</td>\n",
       "      <td>-0.023534</td>\n",
       "      <td>0.006426</td>\n",
       "      <td>0.107283</td>\n",
       "      <td>-0.039540</td>\n",
       "      <td>0.017590</td>\n",
       "      <td>0.007979</td>\n",
       "      <td>0.012346</td>\n",
       "      <td>-0.006685</td>\n",
       "      <td>-0.015199</td>\n",
       "      <td>0.004641</td>\n",
       "    </tr>\n",
       "    <tr>\n",
       "      <th>2021-11-08</th>\n",
       "      <td>-0.007329</td>\n",
       "      <td>-0.024451</td>\n",
       "      <td>-0.016229</td>\n",
       "      <td>0.002694</td>\n",
       "      <td>0.017766</td>\n",
       "      <td>-0.005107</td>\n",
       "      <td>-0.014156</td>\n",
       "      <td>-0.011788</td>\n",
       "      <td>-0.026258</td>\n",
       "      <td>-0.058162</td>\n",
       "      <td>...</td>\n",
       "      <td>0.049956</td>\n",
       "      <td>0.004789</td>\n",
       "      <td>-0.029971</td>\n",
       "      <td>0.010096</td>\n",
       "      <td>0.000408</td>\n",
       "      <td>-0.008605</td>\n",
       "      <td>-0.024390</td>\n",
       "      <td>0.000216</td>\n",
       "      <td>0.004326</td>\n",
       "      <td>-0.009432</td>\n",
       "    </tr>\n",
       "    <tr>\n",
       "      <th>2021-11-09</th>\n",
       "      <td>0.026073</td>\n",
       "      <td>-0.018954</td>\n",
       "      <td>0.021376</td>\n",
       "      <td>-0.013097</td>\n",
       "      <td>-0.000810</td>\n",
       "      <td>-0.003432</td>\n",
       "      <td>0.003081</td>\n",
       "      <td>0.008115</td>\n",
       "      <td>0.004171</td>\n",
       "      <td>-0.004177</td>\n",
       "      <td>...</td>\n",
       "      <td>0.025876</td>\n",
       "      <td>0.020651</td>\n",
       "      <td>-0.113017</td>\n",
       "      <td>0.006018</td>\n",
       "      <td>-0.025714</td>\n",
       "      <td>0.010654</td>\n",
       "      <td>0.025000</td>\n",
       "      <td>-0.001144</td>\n",
       "      <td>0.017579</td>\n",
       "      <td>0.028371</td>\n",
       "    </tr>\n",
       "    <tr>\n",
       "      <th>2021-11-10</th>\n",
       "      <td>0.015311</td>\n",
       "      <td>-0.002775</td>\n",
       "      <td>0.164755</td>\n",
       "      <td>0.014467</td>\n",
       "      <td>0.004594</td>\n",
       "      <td>-0.010124</td>\n",
       "      <td>0.030628</td>\n",
       "      <td>0.029280</td>\n",
       "      <td>0.151350</td>\n",
       "      <td>-0.010785</td>\n",
       "      <td>...</td>\n",
       "      <td>0.035395</td>\n",
       "      <td>0.020622</td>\n",
       "      <td>-0.006185</td>\n",
       "      <td>-0.012389</td>\n",
       "      <td>-0.017595</td>\n",
       "      <td>-0.008409</td>\n",
       "      <td>0.006098</td>\n",
       "      <td>0.004634</td>\n",
       "      <td>0.016016</td>\n",
       "      <td>0.038927</td>\n",
       "    </tr>\n",
       "  </tbody>\n",
       "</table>\n",
       "<p>218 rows × 600 columns</p>\n",
       "</div>"
      ],
      "text/plain": [
       "             BT.A-GB    CCL-GB    MKS-GB   BARC-GB   ITRK-GB   BRBY-GB  \\\n",
       "2021-01-04  0.017048 -0.075473 -0.045146 -0.030877  0.029392  0.007066   \n",
       "2021-01-05 -0.002173  0.010578  0.017530 -0.001457 -0.010819 -0.012701   \n",
       "2021-01-06  0.037976  0.025397  0.040401  0.078782  0.008763  0.018325   \n",
       "2021-01-07  0.042330  0.004560  0.014439  0.008136 -0.009746  0.014806   \n",
       "2021-01-08 -0.022343 -0.001681 -0.020526 -0.016600  0.008472 -0.009519   \n",
       "...              ...       ...       ...       ...       ...       ...   \n",
       "2021-11-04  0.100187 -0.008286  0.011826 -0.048763  0.000845  0.009575   \n",
       "2021-11-05  0.012964  0.093139  0.005779  0.003627 -0.008766  0.021157   \n",
       "2021-11-08 -0.007329 -0.024451 -0.016229  0.002694  0.017766 -0.005107   \n",
       "2021-11-09  0.026073 -0.018954  0.021376 -0.013097 -0.000810 -0.003432   \n",
       "2021-11-10  0.015311 -0.002775  0.164755  0.014467  0.004594 -0.010124   \n",
       "\n",
       "              NXT-GB    KGF-GB    ITV-GB     EN-FR  ...    ENR-DE   JDEP-NL  \\\n",
       "2021-01-04 -0.033860  0.009875 -0.010002  0.010995  ...  0.004333 -0.049256   \n",
       "2021-01-05  0.081277  0.032355 -0.010007  0.003233  ... -0.001328 -0.017933   \n",
       "2021-01-06  0.024951 -0.001149  0.039802  0.033988  ...  0.021934 -0.021449   \n",
       "2021-01-07  0.002726 -0.000945  0.005251  0.015585  ...  0.036098  0.009775   \n",
       "2021-01-08  0.002674  0.009272 -0.001919 -0.005301  ...  0.049278 -0.023761   \n",
       "...              ...       ...       ...       ...  ...       ...       ...   \n",
       "2021-11-04 -0.002513  0.013283  0.012092  0.001138  ...  0.020079  0.013019   \n",
       "2021-11-05  0.003236 -0.029283  0.032691  0.011367  ... -0.023534  0.006426   \n",
       "2021-11-08 -0.014156 -0.011788 -0.026258 -0.058162  ...  0.049956  0.004789   \n",
       "2021-11-09  0.003081  0.008115  0.004171 -0.004177  ...  0.025876  0.020651   \n",
       "2021-11-10  0.030628  0.029280  0.151350 -0.010785  ...  0.035395  0.020622   \n",
       "\n",
       "              ALE-PL   WISE-GB  INPST-NL   DOCS-GB    AG1-DE    ROO-GB  \\\n",
       "2021-01-04  0.009100       NaN       NaN       NaN       NaN       NaN   \n",
       "2021-01-05  0.021707       NaN       NaN       NaN       NaN       NaN   \n",
       "2021-01-06  0.000000       NaN       NaN       NaN       NaN       NaN   \n",
       "2021-01-07 -0.030335       NaN       NaN       NaN       NaN       NaN   \n",
       "2021-01-08 -0.028903       NaN       NaN       NaN       NaN       NaN   \n",
       "...              ...       ...       ...       ...       ...       ...   \n",
       "2021-11-04  0.019127  0.030384  0.052785  0.017875 -0.018182 -0.000699   \n",
       "2021-11-05  0.107283 -0.039540  0.017590  0.007979  0.012346 -0.006685   \n",
       "2021-11-08 -0.029971  0.010096  0.000408 -0.008605 -0.024390  0.000216   \n",
       "2021-11-09 -0.113017  0.006018 -0.025714  0.010654  0.025000 -0.001144   \n",
       "2021-11-10 -0.006185 -0.012389 -0.017595 -0.008409  0.006098  0.004634   \n",
       "\n",
       "            ALLFG-NL    UMG-NL  \n",
       "2021-01-04       NaN       NaN  \n",
       "2021-01-05       NaN       NaN  \n",
       "2021-01-06       NaN       NaN  \n",
       "2021-01-07       NaN       NaN  \n",
       "2021-01-08       NaN       NaN  \n",
       "...              ...       ...  \n",
       "2021-11-04  0.008711  0.033373  \n",
       "2021-11-05 -0.015199  0.004641  \n",
       "2021-11-08  0.004326 -0.009432  \n",
       "2021-11-09  0.017579  0.028371  \n",
       "2021-11-10  0.016016  0.038927  \n",
       "\n",
       "[218 rows x 600 columns]"
      ]
     },
     "execution_count": 2,
     "metadata": {},
     "output_type": "execute_result"
    }
   ],
   "source": [
    "df_returns = pd.read_excel(\"Data_game_20211111.xlsx\", index_col=0, sheet_name='PRICES')\n",
    "df_returns = df_returns.pct_change()\n",
    "df_returns = df_returns.iloc[1:,]\n",
    "df_ret_st = df_returns.tail(20)\n",
    "df_ret_lt = df_returns.head(198) #Exclude last week for \n",
    "df_returns #Total Dataframe is around 7 months"
   ]
  },
  {
   "cell_type": "code",
   "execution_count": 113,
   "id": "03b846f6",
   "metadata": {},
   "outputs": [],
   "source": [
    "df_volume = pd.read_excel(\"Data_game_20211111.xlsx\", index_col=0, sheet_name='VOLUME')\n",
    "df_vol_st = df_volume.tail(21) #taking the short term volume over the last week\n",
    "df_vol_st = df_vol_st.head(20)"
   ]
  },
  {
   "cell_type": "markdown",
   "id": "33a0a2f0",
   "metadata": {},
   "source": [
    "### Momentum Strategy"
   ]
  },
  {
   "cell_type": "code",
   "execution_count": 117,
   "id": "dc1d8c04",
   "metadata": {},
   "outputs": [],
   "source": [
    "df_mom = df_ret_lt.mean()\n",
    "df_mom = df_mom.sort_values(ascending=False)\n",
    "df_mom = df_mom.head(180) #buy 15 winners based on momentum?"
   ]
  },
  {
   "cell_type": "markdown",
   "id": "099ecfa0",
   "metadata": {},
   "source": [
    "### Mean Reversion Strategy"
   ]
  },
  {
   "cell_type": "code",
   "execution_count": 121,
   "id": "1073b8a4",
   "metadata": {},
   "outputs": [],
   "source": [
    "df_mr = df_ret_st.mean()\n",
    "df_mr = df_mr.sort_values(ascending=False)\n",
    "df_mr = df_mr.tail(60) #buy 15 losers based on mean reversion?\n",
    "df_mr = df_mr.sort_values(ascending=True)\n",
    "df_mr.to_csv('mean_reversion.csv')"
   ]
  },
  {
   "cell_type": "markdown",
   "id": "ef22c7ac",
   "metadata": {},
   "source": [
    "### Including Volume"
   ]
  },
  {
   "cell_type": "code",
   "execution_count": 120,
   "id": "721fe7ab",
   "metadata": {},
   "outputs": [],
   "source": [
    "df_vol_mom = pd.DataFrame(df_mom, index=df_returns.columns)\n",
    "df_vol_mom = df_vol_mom.sort_values(by=0,ascending=False)\n",
    "df_vol_mom = df_vol_mom.head(180)\n",
    "df_vol_mom = df_vol_mom.assign(volume_lt = df_volume.mean())\n",
    "df_vol_mom = df_vol_mom.assign(volume_st = df_vol_st.mean())\n",
    "df_vol_mom = df_vol_mom.assign(rel_volume = df_vol_mom.volume_st/df_vol_mom.volume_lt)\n",
    "df_vol_mom = df_vol_mom.sort_values(by='rel_volume',ascending=True)\n",
    "df_vol_mom.to_csv('momentum_final.csv')"
   ]
  },
  {
   "cell_type": "markdown",
   "id": "84fc2a2b",
   "metadata": {},
   "source": [
    "## Strategy Week 3: Investors Sentiment - VADER analysis on Financial Times Headlines"
   ]
  },
  {
   "cell_type": "code",
   "execution_count": 93,
   "id": "1aeffc86",
   "metadata": {},
   "outputs": [],
   "source": [
    "df_vix = pd.read_csv(\"vix week 3.txt\", sep=\";\")"
   ]
  },
  {
   "cell_type": "code",
   "execution_count": 94,
   "id": "483a11ca",
   "metadata": {},
   "outputs": [],
   "source": [
    "df_vix['Date'] = pd.to_datetime(df_vix['Date'], format='%d.%m.%Y')\n",
    "df_vix = df_vix.set_index('Date')"
   ]
  },
  {
   "cell_type": "code",
   "execution_count": 100,
   "id": "a37f994d",
   "metadata": {},
   "outputs": [],
   "source": [
    "vix_last_month = df_vix.tail(20)\n",
    "vix_second_last_month = df_vix.iloc[-40:-20,:]\n",
    "vix_last_year = df_vix.tail(250)\n",
    "\n",
    "vix_second_last_month_year = vix_second_last_month.assign(relative_vix = vix_second_last_month.Indexvalue / np.mean(vix_last_year.Indexvalue))\n"
   ]
  },
  {
   "cell_type": "code",
   "execution_count": null,
   "id": "d31448f5",
   "metadata": {},
   "outputs": [],
   "source": [
    "print(np.mean(vix_second_last_month_year.relative_vix))"
   ]
  },
  {
   "cell_type": "code",
   "execution_count": null,
   "id": "6f4a4afc",
   "metadata": {},
   "outputs": [],
   "source": [
    "import selenium\n",
    "from selenium import webdriver\n",
    "from selenium.common.exceptions import NoSuchElementException\n",
    "from selenium.webdriver.common.by import By\n",
    "from selenium.webdriver.support.ui import WebDriverWait\n",
    "from selenium.webdriver.support import expected_conditions as EC\n",
    "from selenium.webdriver.common.action_chains import ActionChains\n",
    "#from webdriver_manager.chrome import ChromeDriverManager\n",
    "import dateutil.parser\n",
    "import time\n",
    "import csv\n",
    "from datetime import datetime\n",
    "import io\n",
    "\n",
    "chrome_path = '/opt/homebrew/bin/chromedriver'\n",
    "driver = webdriver.Chrome(executable_path=chrome_path)\n",
    "\n",
    "driver.get('https://www.ft.com/world/europe')\n"
   ]
  },
  {
   "cell_type": "code",
   "execution_count": null,
   "id": "9383ed07",
   "metadata": {},
   "outputs": [],
   "source": [
    "count = 0\n",
    "headlines =[]\n",
    "subtitles = []\n",
    "dates = []\n",
    "for x in range(151): #11 is last month #151 is till november 6 (2020)\n",
    "    try:\n",
    "        \n",
    "        news_headlines = driver.find_elements_by_class_name('o-teaser__heading')\n",
    "        second_headlines = driver.find_elements_by_class_name('o-teaser__standfirst')\n",
    "        \n",
    "        for headline in news_headlines:\n",
    "            headlines.append(headline.text)\n",
    "            \n",
    "        for subtitle in second_headlines:\n",
    "            subtitles.append(subtitle.text)\n",
    "            \n",
    "        loadMoreButton = driver.find_element_by_xpath(\"//a[@class='o-buttons o-buttons--secondary o-buttons-icon o-buttons-icon--arrow-right o-buttons-icon--icon-only']\")\n",
    "        loadMoreButton.click()\n",
    "        time.sleep(3)\n",
    "        \n",
    "    except Exception as e:\n",
    "        print(e)"
   ]
  },
  {
   "cell_type": "code",
   "execution_count": 181,
   "id": "f336b501",
   "metadata": {},
   "outputs": [],
   "source": [
    "df_subtitles_lastyear = pd.DataFrame(columns=['sub_headlines'])\n",
    "df_subtitles_lastyear.sub_headlines = subtitles"
   ]
  },
  {
   "cell_type": "code",
   "execution_count": 156,
   "id": "5160c180",
   "metadata": {},
   "outputs": [],
   "source": [
    "df_headlines_lastyear = pd.DataFrame(columns=['headlines'])\n",
    "df_headlines_lastyear.headlines = headlines"
   ]
  },
  {
   "cell_type": "code",
   "execution_count": 169,
   "id": "19326f96",
   "metadata": {},
   "outputs": [],
   "source": [
    "df_headlines_lastmonth = pd.DataFrame(columns=['headlines'])\n",
    "df_headlines_lastmonth.headlines = headlines"
   ]
  },
  {
   "cell_type": "code",
   "execution_count": 182,
   "id": "bdc1aa5e",
   "metadata": {},
   "outputs": [
    {
     "data": {
      "text/html": [
       "<div>\n",
       "<style scoped>\n",
       "    .dataframe tbody tr th:only-of-type {\n",
       "        vertical-align: middle;\n",
       "    }\n",
       "\n",
       "    .dataframe tbody tr th {\n",
       "        vertical-align: top;\n",
       "    }\n",
       "\n",
       "    .dataframe thead th {\n",
       "        text-align: right;\n",
       "    }\n",
       "</style>\n",
       "<table border=\"1\" class=\"dataframe\">\n",
       "  <thead>\n",
       "    <tr style=\"text-align: right;\">\n",
       "      <th></th>\n",
       "      <th>sub_headlines</th>\n",
       "    </tr>\n",
       "  </thead>\n",
       "  <tbody>\n",
       "    <tr>\n",
       "      <th>0</th>\n",
       "      <td>Prime minister says he would ‘never’ allow ‘ve...</td>\n",
       "    </tr>\n",
       "    <tr>\n",
       "      <th>1</th>\n",
       "      <td>But success in supporting recovery must not br...</td>\n",
       "    </tr>\n",
       "    <tr>\n",
       "      <th>2</th>\n",
       "      <td>Equities in China and India decline while Turk...</td>\n",
       "    </tr>\n",
       "    <tr>\n",
       "      <th>3</th>\n",
       "      <td>Lira tumbles as economists fret that loose mon...</td>\n",
       "    </tr>\n",
       "    <tr>\n",
       "      <th>4</th>\n",
       "      <td>Candidates in next year’s presidential electio...</td>\n",
       "    </tr>\n",
       "    <tr>\n",
       "      <th>...</th>\n",
       "      <td>...</td>\n",
       "    </tr>\n",
       "    <tr>\n",
       "      <th>3742</th>\n",
       "      <td>Companies in Italy and Spain suffer a fresh fa...</td>\n",
       "    </tr>\n",
       "    <tr>\n",
       "      <th>3743</th>\n",
       "      <td>A long history of weak central government is c...</td>\n",
       "    </tr>\n",
       "    <tr>\n",
       "      <th>3744</th>\n",
       "      <td>Constitutional breach may be justified to refo...</td>\n",
       "    </tr>\n",
       "    <tr>\n",
       "      <th>3745</th>\n",
       "      <td>Delay seeks to give country ‘a bit of time for...</td>\n",
       "    </tr>\n",
       "    <tr>\n",
       "      <th>3746</th>\n",
       "      <td>Negotiators take stock of progress after 13 da...</td>\n",
       "    </tr>\n",
       "  </tbody>\n",
       "</table>\n",
       "<p>3747 rows × 1 columns</p>\n",
       "</div>"
      ],
      "text/plain": [
       "                                          sub_headlines\n",
       "0     Prime minister says he would ‘never’ allow ‘ve...\n",
       "1     But success in supporting recovery must not br...\n",
       "2     Equities in China and India decline while Turk...\n",
       "3     Lira tumbles as economists fret that loose mon...\n",
       "4     Candidates in next year’s presidential electio...\n",
       "...                                                 ...\n",
       "3742  Companies in Italy and Spain suffer a fresh fa...\n",
       "3743  A long history of weak central government is c...\n",
       "3744  Constitutional breach may be justified to refo...\n",
       "3745  Delay seeks to give country ‘a bit of time for...\n",
       "3746  Negotiators take stock of progress after 13 da...\n",
       "\n",
       "[3747 rows x 1 columns]"
      ]
     },
     "execution_count": 182,
     "metadata": {},
     "output_type": "execute_result"
    }
   ],
   "source": [
    "df_subtitles_lastyear"
   ]
  },
  {
   "cell_type": "code",
   "execution_count": 159,
   "id": "8790cb1b",
   "metadata": {},
   "outputs": [],
   "source": [
    "#Using the sentiment analyzer to analyze the sentiment of the narrative complaints in the complaints dataframe.\n",
    "analyzer = SentimentIntensityAnalyzer()\n",
    "\n",
    "#Define a quick function to get the sentiment compound score.\n",
    "def get_sentiment(complaint):\n",
    "    return analyzer.polarity_scores(complaint)['compound']"
   ]
  },
  {
   "cell_type": "code",
   "execution_count": 183,
   "id": "73c3b42c",
   "metadata": {},
   "outputs": [
    {
     "data": {
      "text/html": [
       "<div>\n",
       "<style scoped>\n",
       "    .dataframe tbody tr th:only-of-type {\n",
       "        vertical-align: middle;\n",
       "    }\n",
       "\n",
       "    .dataframe tbody tr th {\n",
       "        vertical-align: top;\n",
       "    }\n",
       "\n",
       "    .dataframe thead th {\n",
       "        text-align: right;\n",
       "    }\n",
       "</style>\n",
       "<table border=\"1\" class=\"dataframe\">\n",
       "  <thead>\n",
       "    <tr style=\"text-align: right;\">\n",
       "      <th></th>\n",
       "      <th>sub_headlines</th>\n",
       "      <th>sentiment_score</th>\n",
       "    </tr>\n",
       "  </thead>\n",
       "  <tbody>\n",
       "    <tr>\n",
       "      <th>0</th>\n",
       "      <td>Prime minister says he would ‘never’ allow ‘ve...</td>\n",
       "      <td>0.2263</td>\n",
       "    </tr>\n",
       "    <tr>\n",
       "      <th>1</th>\n",
       "      <td>But success in supporting recovery must not br...</td>\n",
       "      <td>0.8720</td>\n",
       "    </tr>\n",
       "    <tr>\n",
       "      <th>2</th>\n",
       "      <td>Equities in China and India decline while Turk...</td>\n",
       "      <td>-0.3182</td>\n",
       "    </tr>\n",
       "    <tr>\n",
       "      <th>3</th>\n",
       "      <td>Lira tumbles as economists fret that loose mon...</td>\n",
       "      <td>-0.3182</td>\n",
       "    </tr>\n",
       "    <tr>\n",
       "      <th>4</th>\n",
       "      <td>Candidates in next year’s presidential electio...</td>\n",
       "      <td>0.0000</td>\n",
       "    </tr>\n",
       "    <tr>\n",
       "      <th>...</th>\n",
       "      <td>...</td>\n",
       "      <td>...</td>\n",
       "    </tr>\n",
       "    <tr>\n",
       "      <th>3742</th>\n",
       "      <td>Companies in Italy and Spain suffer a fresh fa...</td>\n",
       "      <td>-0.4019</td>\n",
       "    </tr>\n",
       "    <tr>\n",
       "      <th>3743</th>\n",
       "      <td>A long history of weak central government is c...</td>\n",
       "      <td>-0.7184</td>\n",
       "    </tr>\n",
       "    <tr>\n",
       "      <th>3744</th>\n",
       "      <td>Constitutional breach may be justified to refo...</td>\n",
       "      <td>0.5423</td>\n",
       "    </tr>\n",
       "    <tr>\n",
       "      <th>3745</th>\n",
       "      <td>Delay seeks to give country ‘a bit of time for...</td>\n",
       "      <td>-0.3182</td>\n",
       "    </tr>\n",
       "    <tr>\n",
       "      <th>3746</th>\n",
       "      <td>Negotiators take stock of progress after 13 da...</td>\n",
       "      <td>0.4215</td>\n",
       "    </tr>\n",
       "  </tbody>\n",
       "</table>\n",
       "<p>3747 rows × 2 columns</p>\n",
       "</div>"
      ],
      "text/plain": [
       "                                          sub_headlines  sentiment_score\n",
       "0     Prime minister says he would ‘never’ allow ‘ve...           0.2263\n",
       "1     But success in supporting recovery must not br...           0.8720\n",
       "2     Equities in China and India decline while Turk...          -0.3182\n",
       "3     Lira tumbles as economists fret that loose mon...          -0.3182\n",
       "4     Candidates in next year’s presidential electio...           0.0000\n",
       "...                                                 ...              ...\n",
       "3742  Companies in Italy and Spain suffer a fresh fa...          -0.4019\n",
       "3743  A long history of weak central government is c...          -0.7184\n",
       "3744  Constitutional breach may be justified to refo...           0.5423\n",
       "3745  Delay seeks to give country ‘a bit of time for...          -0.3182\n",
       "3746  Negotiators take stock of progress after 13 da...           0.4215\n",
       "\n",
       "[3747 rows x 2 columns]"
      ]
     },
     "execution_count": 183,
     "metadata": {},
     "output_type": "execute_result"
    }
   ],
   "source": [
    "df_sent_sub_lastyear = df_subtitles_lastyear.assign(sentiment_score = df_subtitles_lastyear['sub_headlines'].apply(get_sentiment))\n",
    "df_sent_sub_lastyear\n"
   ]
  },
  {
   "cell_type": "code",
   "execution_count": 175,
   "id": "b1606cfb",
   "metadata": {},
   "outputs": [
    {
     "data": {
      "text/plain": [
       "-0.06074598540145988"
      ]
     },
     "execution_count": 175,
     "metadata": {},
     "output_type": "execute_result"
    }
   ],
   "source": [
    "np.mean(df_sent_sub.sentiment_score)"
   ]
  },
  {
   "cell_type": "code",
   "execution_count": 184,
   "id": "714a39d0",
   "metadata": {},
   "outputs": [
    {
     "data": {
      "text/plain": [
       "-0.02195025353616231"
      ]
     },
     "execution_count": 184,
     "metadata": {},
     "output_type": "execute_result"
    }
   ],
   "source": [
    "np.mean(df_sent_sub_lastyear.sentiment_score)"
   ]
  },
  {
   "cell_type": "code",
   "execution_count": 165,
   "id": "2fff5461",
   "metadata": {},
   "outputs": [],
   "source": [
    "#Use the sentiment function to calculate the compound sentiment score of every complaint in the new dataframe.\n",
    "df_sent = df_headlines_lastmonth.assign(sentiment_score = df_headlines_lastmonth['headlines'].apply(get_sentiment))\n",
    "df_sent_year = df_headlines_lastyear.assign(sentiment_score = df_headlines_lastyear['headlines'].apply(get_sentiment))\n"
   ]
  },
  {
   "cell_type": "code",
   "execution_count": 164,
   "id": "01cb0d0d",
   "metadata": {},
   "outputs": [
    {
     "data": {
      "text/plain": [
       "-0.07032145454545449"
      ]
     },
     "execution_count": 164,
     "metadata": {},
     "output_type": "execute_result"
    }
   ],
   "source": [
    "np.mean(df_sent.sentiment_score)"
   ]
  },
  {
   "cell_type": "code",
   "execution_count": 167,
   "id": "3ec7e3ee",
   "metadata": {},
   "outputs": [
    {
     "data": {
      "text/plain": [
       "-0.04533957333333326"
      ]
     },
     "execution_count": 167,
     "metadata": {},
     "output_type": "execute_result"
    }
   ],
   "source": [
    "np.mean(df_sent_year.sentiment_score)"
   ]
  },
  {
   "cell_type": "markdown",
   "id": "9d94b667",
   "metadata": {},
   "source": [
    "## Strategy Week 4: Tversky Kahneman Values "
   ]
  },
  {
   "cell_type": "code",
   "execution_count": 168,
   "id": "4f124f62",
   "metadata": {},
   "outputs": [],
   "source": [
    "df_stoxx = pd.read_excel(\"Data_game_20211125.xlsx\", index_col=0, sheet_name='PRICES')\n",
    "\n",
    "#Keep only the prices at friday\n",
    "df_stoxx = df_stoxx.iloc[::5, :]\n",
    "\n",
    "#Calculate the cumulative returns over one week.\n",
    "df_stoxx = df_stoxx.pct_change()\n",
    "df_stoxx = df_stoxx.iloc[1:,]\n",
    "\n",
    "#45 weekly returns\n",
    "\n",
    "#Drop columns if the they contain less than 30 returns\n",
    "df_stoxx = df_stoxx.dropna(thresh=30, axis=1)"
   ]
  },
  {
   "cell_type": "code",
   "execution_count": 169,
   "id": "eaeed551",
   "metadata": {},
   "outputs": [
    {
     "name": "stderr",
     "output_type": "stream",
     "text": [
      "<ipython-input-169-b7057dbff9a3>:31: RuntimeWarning: invalid value encountered in float_power\n",
      "  weight_1 = (np.float_power(p_1, gamma))/(np.float_power((np.float_power(p_1, gamma)+np.float_power((1-p_1),gamma)),(1/gamma)))\n",
      "<ipython-input-169-b7057dbff9a3>:34: RuntimeWarning: invalid value encountered in float_power\n",
      "  weight_2 = (np.float_power(p_2, gamma))/(np.float_power((np.float_power(p_2, gamma)+np.float_power((1-p_2),gamma)),(1/gamma)))\n"
     ]
    }
   ],
   "source": [
    "lmda = 2.25\n",
    "alpha = 0.88\n",
    "delta = 0.69\n",
    "gamma = 0.61\n",
    "\n",
    "TK = []\n",
    "\n",
    "for columns in df_stoxx.columns:\n",
    "    m = df_stoxx[columns].lt(0).sum()\n",
    "    n = df_stoxx[columns].count() - m\n",
    "    \n",
    "    weekly_ret_neg = df_stoxx[columns][df_stoxx[columns]<0].sort_values(ascending=True)\n",
    "    weekly_ret_pos = df_stoxx[columns][df_stoxx[columns]>0].sort_values(ascending=True)\n",
    "    \n",
    "    value_ret_neg = np.float_power(abs(weekly_ret_neg.values), alpha)*lmda\n",
    "    value_ret_pos = np.float_power(abs(weekly_ret_pos.values), alpha)\n",
    "    \n",
    "    weight_pos = []\n",
    "    weight_neg = []\n",
    "    \n",
    "    for i in range(0,len(weekly_ret_neg)):\n",
    "        p_1 = (i+1)/len(weekly_ret_neg)\n",
    "        weight_1 = (np.float_power(p_1, delta))/(np.float_power((np.float_power(p_1, delta)+np.float_power((1-p_1),delta)),(1/delta)))\n",
    "        \n",
    "        p_2 = (i)/len(weekly_ret_neg)\n",
    "        weight_2 = (np.float_power(p_2, delta))/(np.float_power((np.float_power(p_2, delta)+np.float_power((1-p_2),delta)),(1/delta)))\n",
    "        weight_neg.append(weight_1-weight_2)\n",
    "        \n",
    "    for i in range(1,len(weekly_ret_pos)+1):\n",
    "        p_1 = (n-i+1)/len(weekly_ret_pos)\n",
    "        weight_1 = (np.float_power(p_1, gamma))/(np.float_power((np.float_power(p_1, gamma)+np.float_power((1-p_1),gamma)),(1/gamma)))\n",
    "\n",
    "        p_2 = (n-i)/len(weekly_ret_pos)\n",
    "        weight_2 = (np.float_power(p_2, gamma))/(np.float_power((np.float_power(p_2, gamma)+np.float_power((1-p_2),gamma)),(1/gamma)))\n",
    "        \n",
    "        weight_pos.append(weight_1-weight_2)\n",
    "    \n",
    "    TK_pos = value_ret_pos*weight_pos\n",
    "    TK_neg = value_ret_neg*weight_neg\n",
    "    TK_list = np.concatenate((TK_neg,TK_pos)) \n",
    "    TK_tot = np.sum(TK_neg)\n",
    "    TK.append(TK_tot)\n",
    "    "
   ]
  },
  {
   "cell_type": "code",
   "execution_count": 171,
   "id": "c68140d0",
   "metadata": {},
   "outputs": [
    {
     "data": {
      "text/html": [
       "<div>\n",
       "<style scoped>\n",
       "    .dataframe tbody tr th:only-of-type {\n",
       "        vertical-align: middle;\n",
       "    }\n",
       "\n",
       "    .dataframe tbody tr th {\n",
       "        vertical-align: top;\n",
       "    }\n",
       "\n",
       "    .dataframe thead th {\n",
       "        text-align: right;\n",
       "    }\n",
       "</style>\n",
       "<table border=\"1\" class=\"dataframe\">\n",
       "  <thead>\n",
       "    <tr style=\"text-align: right;\">\n",
       "      <th></th>\n",
       "      <th>TK_value</th>\n",
       "    </tr>\n",
       "  </thead>\n",
       "  <tbody>\n",
       "    <tr>\n",
       "      <th>SEV-FR</th>\n",
       "      <td>0.014451</td>\n",
       "    </tr>\n",
       "    <tr>\n",
       "      <th>SAMPO-FI</th>\n",
       "      <td>0.039623</td>\n",
       "    </tr>\n",
       "    <tr>\n",
       "      <th>EOAN-DE</th>\n",
       "      <td>0.042270</td>\n",
       "    </tr>\n",
       "    <tr>\n",
       "      <th>AV-GB</th>\n",
       "      <td>0.042886</td>\n",
       "    </tr>\n",
       "    <tr>\n",
       "      <th>TEL-NO</th>\n",
       "      <td>0.043288</td>\n",
       "    </tr>\n",
       "    <tr>\n",
       "      <th>...</th>\n",
       "      <td>...</td>\n",
       "    </tr>\n",
       "    <tr>\n",
       "      <th>SGRE-ES</th>\n",
       "      <td>0.205675</td>\n",
       "    </tr>\n",
       "    <tr>\n",
       "      <th>AMBU.B-DK</th>\n",
       "      <td>0.206793</td>\n",
       "    </tr>\n",
       "    <tr>\n",
       "      <th>SINCH-SE</th>\n",
       "      <td>0.222164</td>\n",
       "    </tr>\n",
       "    <tr>\n",
       "      <th>TMV-DE</th>\n",
       "      <td>0.229523</td>\n",
       "    </tr>\n",
       "    <tr>\n",
       "      <th>THG-GB</th>\n",
       "      <td>0.230863</td>\n",
       "    </tr>\n",
       "  </tbody>\n",
       "</table>\n",
       "<p>596 rows × 1 columns</p>\n",
       "</div>"
      ],
      "text/plain": [
       "           TK_value\n",
       "SEV-FR     0.014451\n",
       "SAMPO-FI   0.039623\n",
       "EOAN-DE    0.042270\n",
       "AV-GB      0.042886\n",
       "TEL-NO     0.043288\n",
       "...             ...\n",
       "SGRE-ES    0.205675\n",
       "AMBU.B-DK  0.206793\n",
       "SINCH-SE   0.222164\n",
       "TMV-DE     0.229523\n",
       "THG-GB     0.230863\n",
       "\n",
       "[596 rows x 1 columns]"
      ]
     },
     "execution_count": 171,
     "metadata": {},
     "output_type": "execute_result"
    }
   ],
   "source": [
    "df_TK = pd.DataFrame(index=df_stoxx.columns)\n",
    "df_TK = df_TK.assign(TK_value=TK)\n",
    "df_TK.sort_values(by='TK_value',ascending=True)"
   ]
  },
  {
   "cell_type": "markdown",
   "id": "d8801693",
   "metadata": {},
   "source": [
    "## Strategy Week 5: Illiquidity measure"
   ]
  },
  {
   "cell_type": "code",
   "execution_count": 4,
   "id": "fa7a656a",
   "metadata": {},
   "outputs": [],
   "source": [
    "df_returns = pd.read_excel(\"Data_game_20211125.xlsx\", index_col=0, sheet_name='PRICES')\n",
    "df_returns = df_returns.pct_change()\n",
    "df_returns = df_returns.iloc[1:,]"
   ]
  },
  {
   "cell_type": "code",
   "execution_count": 11,
   "id": "0708966b",
   "metadata": {},
   "outputs": [],
   "source": [
    "df_turnover = pd.read_excel(\"Data_game_20211125.xlsx\", index_col=0, sheet_name='VOLUME')\n",
    "df_size = pd.read_excel(\"Data_game_20211125.xlsx\", index_col=0, sheet_name='MV (SIZE)')"
   ]
  },
  {
   "cell_type": "code",
   "execution_count": 16,
   "id": "53e0fec1",
   "metadata": {},
   "outputs": [],
   "source": [
    "df_volume = df_turnover.div(df_size)\n",
    "df_volume = df_volume.iloc[1:,]"
   ]
  },
  {
   "cell_type": "code",
   "execution_count": 18,
   "id": "64d8d05e",
   "metadata": {},
   "outputs": [],
   "source": [
    "df_illiquidity = abs(df_returns).div(df_volume)"
   ]
  },
  {
   "cell_type": "code",
   "execution_count": 20,
   "id": "fee443d2",
   "metadata": {},
   "outputs": [],
   "source": [
    "df_illiquidity_last_month = df_illiquidity.tail(20)"
   ]
  },
  {
   "cell_type": "code",
   "execution_count": 28,
   "id": "c27e04d2",
   "metadata": {},
   "outputs": [],
   "source": [
    "df_illiquidity_last_month_mean = df_illiquidity_last_month.mean().sort_values(ascending=False)\n",
    "df_illiquidity_last_month_mean.to_csv(\"illiquidity_df.csv\")"
   ]
  },
  {
   "cell_type": "code",
   "execution_count": 27,
   "id": "85407936",
   "metadata": {},
   "outputs": [
    {
     "data": {
      "text/plain": [
       "CDI-FR      0.365496\n",
       "ALLFG-NL    0.065531\n",
       "ADE-NO      0.043922\n",
       "BPT-GB      0.033996\n",
       "DIM-FR      0.029586\n",
       "              ...   \n",
       "FNTN-DE     0.001751\n",
       "SEV-FR      0.001700\n",
       "BAMI-IT     0.001678\n",
       "UCG-IT      0.001636\n",
       "LDO-IT      0.001281\n",
       "Length: 600, dtype: float64"
      ]
     },
     "execution_count": 27,
     "metadata": {},
     "output_type": "execute_result"
    }
   ],
   "source": [
    "df_illiquidity.mean().sort_values(ascending=False)"
   ]
  }
 ],
 "metadata": {
  "kernelspec": {
   "display_name": "Python 3",
   "language": "python",
   "name": "python3"
  },
  "language_info": {
   "codemirror_mode": {
    "name": "ipython",
    "version": 3
   },
   "file_extension": ".py",
   "mimetype": "text/x-python",
   "name": "python",
   "nbconvert_exporter": "python",
   "pygments_lexer": "ipython3",
   "version": "3.8.8"
  }
 },
 "nbformat": 4,
 "nbformat_minor": 5
}
